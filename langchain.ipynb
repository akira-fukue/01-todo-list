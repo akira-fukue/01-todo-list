{
  "nbformat": 4,
  "nbformat_minor": 0,
  "metadata": {
    "colab": {
      "provenance": [],
      "toc_visible": true,
      "authorship_tag": "ABX9TyMHFd+lR2bcNONmwrGCB1q0",
      "include_colab_link": true
    },
    "kernelspec": {
      "name": "python3",
      "display_name": "Python 3"
    },
    "language_info": {
      "name": "python"
    }
  },
  "cells": [
    {
      "cell_type": "markdown",
      "metadata": {
        "id": "view-in-github",
        "colab_type": "text"
      },
      "source": [
        "<a href=\"https://colab.research.google.com/github/akira-fukue/01-todo-list/blob/master/langchain.ipynb\" target=\"_parent\"><img src=\"https://colab.research.google.com/assets/colab-badge.svg\" alt=\"Open In Colab\"/></a>"
      ]
    },
    {
      "cell_type": "markdown",
      "source": [
        "# Getting started with ***LangChain*** framework\n",
        "\n",
        "\n"
      ],
      "metadata": {
        "id": "E9lvILeHfals"
      }
    },
    {
      "cell_type": "markdown",
      "source": [
        "## Install and configuration"
      ],
      "metadata": {
        "id": "lOSh28XlflDt"
      }
    },
    {
      "cell_type": "code",
      "execution_count": null,
      "metadata": {
        "id": "JRYRV2yofCOL"
      },
      "outputs": [],
      "source": [
        "!pip install langchain\n",
        "!pip install openai"
      ]
    },
    {
      "cell_type": "markdown",
      "source": [
        "Remember to hide your openAI key\n"
      ],
      "metadata": {
        "id": "hVjEBXXIgEDk"
      }
    },
    {
      "cell_type": "code",
      "source": [
        "# import os\n",
        "# os.environ[\"OPENAI_API_KEY\"] = \"...\""
      ],
      "metadata": {
        "id": "cxTOTLJkfpp2"
      },
      "execution_count": 8,
      "outputs": []
    },
    {
      "cell_type": "markdown",
      "source": [
        "## LLMs: Get predictions from a language model"
      ],
      "metadata": {
        "id": "mp5GACu8gNAV"
      }
    },
    {
      "cell_type": "code",
      "source": [
        "from langchain.llms import OpenAI\n",
        "llm = OpenAI(temperature=0.9)\n",
        "text = \"Você conhece o framework langchain?\"\n",
        "print(llm(text))"
      ],
      "metadata": {
        "colab": {
          "base_uri": "https://localhost:8080/"
        },
        "id": "oaZuX3kIgC9X",
        "outputId": "f4c37576-18ac-4c98-b7f8-53ffaad7b92f"
      },
      "execution_count": 9,
      "outputs": [
        {
          "output_type": "stream",
          "name": "stdout",
          "text": [
            "\n",
            "\n",
            "Sim, conheço o framework langchain. É um framework de desenvolvimento de aplicativos blockchain para linguagens de programação, como C ++, C #, Java, JavaScript, Python e Solidity. O Langchain oferece uma maneira mais simples de criar aplicativos descentralizados usando essas linguagens de programação. Os desenvolvedores podem usar o framework para criar aplicativos ricos e aproveitá-los para oferecer serviços aos usuários, permitindo o controle de dados e o acesso à informação em um ambiente seguro.\n"
          ]
        }
      ]
    },
    {
      "cell_type": "markdown",
      "source": [
        "## Prompt Templates: Manage prompts for LLMs\n",
        "\n",
        "Can be very useful for intercepting or creating templates, and even optimizing prompt."
      ],
      "metadata": {
        "id": "Lxwro6BjhPVc"
      }
    },
    {
      "cell_type": "code",
      "source": [
        "from langchain.prompts import PromptTemplate\n",
        "\n",
        "prompt = PromptTemplate(\n",
        "    input_variables=[\"pessoa\"],\n",
        "    template=\"Bom dia! {pessoa}!\",\n",
        ")"
      ],
      "metadata": {
        "id": "cGSLdY_shOEd"
      },
      "execution_count": 13,
      "outputs": []
    },
    {
      "cell_type": "code",
      "source": [
        "print(prompt.format(pessoa=\"Akira\"))"
      ],
      "metadata": {
        "colab": {
          "base_uri": "https://localhost:8080/"
        },
        "id": "p-wYdP6OiiTm",
        "outputId": "eeef5a1f-f113-4655-ac1c-119f12c8f9a3"
      },
      "execution_count": 14,
      "outputs": [
        {
          "output_type": "stream",
          "name": "stdout",
          "text": [
            "Bom dia! Akira!\n"
          ]
        }
      ]
    }
  ]
}